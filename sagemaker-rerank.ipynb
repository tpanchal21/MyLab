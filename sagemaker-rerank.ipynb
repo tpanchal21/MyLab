{
  "cells": [
    {
      "cell_type": "markdown",
      "metadata": {
        "id": "IXWidaXJ3B_T"
      },
      "source": [
        "<a target=\"_blank\" href=\"https://colab.research.google.com/github/cohere-ai/notebooks/blob/main/notebooks/llmu/co_aws_ch5_rerank_sm.ipynb\"> <img src=\"https://colab.research.google.com/assets/colab-badge.svg\" alt=\"Open In Colab\"/>"
      ]
    },
    {
      "cell_type": "markdown",
      "metadata": {
        "id": "_uJz3Mg93B_U"
      },
      "source": [
        "# Cohere Rerank on Amazon SageMaker\n",
        "\n"
      ]
    },
    {
      "cell_type": "code",
      "execution_count": null,
      "metadata": {
        "id": "gnYxBI1Q3B_W"
      },
      "outputs": [],
      "source": [
        "! pip install cohere cohere-aws boto3"
      ]
    },
    {
      "cell_type": "code",
      "execution_count": null,
      "metadata": {
        "id": "ximyaaLw3B_X"
      },
      "outputs": [],
      "source": [
        "import os\n",
        "import boto3\n",
        "import cohere\n",
        "import cohere_aws\n",
        "from cohere_aws import Client"
      ]
    },
    {
      "cell_type": "code",
      "execution_count": null,
      "metadata": {
        "id": "g8SJH2m63B_X"
      },
      "outputs": [],
      "source": [
        "import cohere\n",
        "\n",
        "# Create SageMaker client via the native Cohere SDK\n",
        "# Contact your AWS administrator for the credentials\n",
        "co = cohere.SagemakerClient(\n",
        "    aws_region=\"us-east-1\",\n",
        "    aws_access_key=\"\",\n",
        "    aws_secret_key=\"\",\n",
        "    aws_session_token=\"\",\n",
        ")\n",
        "\n",
        "# For creating an endpoint, you need to use the cohere_aws client: Set environment variables with the AWS credentials\n",
        "os.environ['AWS_ACCESS_KEY_ID'] = \"\"\n",
        "os.environ['AWS_SECRET_ACCESS_KEY'] = \"\"\n",
        "os.environ['AWS_SESSION_TOKEN'] = \"\""
      ]
    },
    {
      "cell_type": "code",
      "execution_count": null,
      "metadata": {
        "id": "z84CBqqp3B_Y"
      },
      "outputs": [],
      "source": [
        "# Create SageMaker endpoint via the cohere_aws SDK\n",
        "cohere_package = \"cohere-rerank-english-v3-01-d3687e0d2e3a366bb904275616424807\"\n",
        "model_package_map = {\n",
        "    \"us-east-1\": f\"arn:aws:sagemaker:us-east-1:865070037744:model-package/{cohere_package}\",\n",
        "    \"us-east-2\": f\"arn:aws:sagemaker:us-east-2:057799348421:model-package/{cohere_package}\",\n",
        "    \"us-west-1\": f\"arn:aws:sagemaker:us-west-1:382657785993:model-package/{cohere_package}\",\n",
        "    \"us-west-2\": f\"arn:aws:sagemaker:us-west-2:594846645681:model-package/{cohere_package}\",\n",
        "    \"ca-central-1\": f\"arn:aws:sagemaker:ca-central-1:470592106596:model-package/{cohere_package}\",\n",
        "    \"eu-central-1\": f\"arn:aws:sagemaker:eu-central-1:446921602837:model-package/{cohere_package}\",\n",
        "    \"eu-west-1\": f\"arn:aws:sagemaker:eu-west-1:985815980388:model-package/{cohere_package}\",\n",
        "    \"eu-west-2\": f\"arn:aws:sagemaker:eu-west-2:856760150666:model-package/{cohere_package}\",\n",
        "    \"eu-west-3\": f\"arn:aws:sagemaker:eu-west-3:843114510376:model-package/{cohere_package}\",\n",
        "    \"eu-north-1\": f\"arn:aws:sagemaker:eu-north-1:136758871317:model-package/{cohere_package}\",\n",
        "    \"ap-southeast-1\": f\"arn:aws:sagemaker:ap-southeast-1:192199979996:model-package/{cohere_package}\",\n",
        "    \"ap-southeast-2\": f\"arn:aws:sagemaker:ap-southeast-2:666831318237:model-package/{cohere_package}\",\n",
        "    \"ap-northeast-2\": f\"arn:aws:sagemaker:ap-northeast-2:745090734665:model-package/{cohere_package}\",\n",
        "    \"ap-northeast-1\": f\"arn:aws:sagemaker:ap-northeast-1:977537786026:model-package/{cohere_package}\",\n",
        "    \"ap-south-1\": f\"arn:aws:sagemaker:ap-south-1:077584701553:model-package/{cohere_package}\",\n",
        "    \"sa-east-1\": f\"arn:aws:sagemaker:sa-east-1:270155090741:model-package/{cohere_package}\",\n",
        "}\n",
        "\n",
        "region = boto3.Session().region_name\n",
        "\n",
        "if region not in model_package_map.keys():\n",
        "    raise Exception(\"UNSUPPORTED REGION\")\n",
        "\n",
        "model_package_arn = model_package_map[region]\n",
        "\n",
        "co_aws = Client(region_name=region)\n",
        "\n",
        "co_aws.create_endpoint(arn=model_package_arn, endpoint_name=\"my-rerank-v3\", instance_type=\"ml.g5.xlarge\", n_instances=1)"
      ]
    },
    {
      "cell_type": "code",
      "execution_count": null,
      "metadata": {
        "id": "dwxoVweY3B_Y"
      },
      "outputs": [],
      "source": [
        "documents = [\n",
        "    {\"Title\":\"Incorrect Password\",\"Content\":\"Hello, I have been trying to access my account for the past hour and it keeps saying my password is incorrect. Can you please help me?\"},\n",
        "    {\"Title\":\"Confirmation Email Missed\",\"Content\":\"Hi, I recently purchased a product from your website but I never received a confirmation email. Can you please look into this for me?\"},\n",
        "    {\"Title\":\"Questions about Return Policy\",\"Content\":\"Hello, I have a question about the return policy for this product. I purchased it a few weeks ago and it is defective.\"},\n",
        "    {\"Title\":\"Customer Support is Busy\",\"Content\":\"Good morning, I have been trying to reach your customer support team for the past week but I keep getting a busy signal. Can you please help me?\"},\n",
        "    {\"Title\":\"Received Wrong Item\",\"Content\":\"Hi, I have a question about my recent order. I received the wrong item and I need to return it.\"},\n",
        "    {\"Title\":\"Customer Service is Unavailable\",\"Content\":\"Hello, I have been trying to reach your customer support team for the past hour but I keep getting a busy signal. Can you please help me?\"},\n",
        "    {\"Title\":\"Return Policy for Defective Product\",\"Content\":\"Hi, I have a question about the return policy for this product. I purchased it a few weeks ago and it is defective.\"},\n",
        "    {\"Title\":\"Wrong Item Received\",\"Content\":\"Good morning, I have a question about my recent order. I received the wrong item and I need to return it.\"},\n",
        "    {\"Title\":\"Return Defective Product\",\"Content\":\"Hello, I have a question about the return policy for this product. I purchased it a few weeks ago and it is defective.\"}\n",
        "]"
      ]
    },
    {
      "cell_type": "code",
      "execution_count": null,
      "metadata": {
        "id": "CuJb5gqc3B_Z"
      },
      "outputs": [],
      "source": [
        "query = 'What emails have been about refunds?'\n",
        "\n",
        "response = co.rerank(documents=documents,\n",
        "                     query=query,\n",
        "                     rank_fields=[\"Title\",\"Content\"],\n",
        "                     top_n=3,\n",
        "                     model=\"my-rerank-v3\")"
      ]
    },
    {
      "cell_type": "code",
      "execution_count": null,
      "metadata": {
        "id": "kqT343xl3B_Z",
        "outputId": "5a9b85a8-8424-451b-c9b6-046139660522"
      },
      "outputs": [
        {
          "name": "stdout",
          "output_type": "stream",
          "text": [
            "Documents \n",
            "\n",
            "#1:\n",
            "{'Title': 'Questions about Return Policy', 'Content': 'Hello, I have a question about the return policy for this product. I purchased it a few weeks ago and it is defective.'}\n",
            "\n",
            "#2:\n",
            "{'Title': 'Return Policy for Defective Product', 'Content': 'Hi, I have a question about the return policy for this product. I purchased it a few weeks ago and it is defective.'}\n",
            "\n",
            "#3:\n",
            "{'Title': 'Return Defective Product', 'Content': 'Hello, I have a question about the return policy for this product. I purchased it a few weeks ago and it is defective.'}\n",
            "\n"
          ]
        }
      ],
      "source": [
        "print(\"Documents\",\"\\n\")\n",
        "\n",
        "for idx,doc in enumerate(response.results):\n",
        "    print(f\"#{idx+1}:\\n{documents[doc.index]}\\n\")"
      ]
    },
    {
      "cell_type": "code",
      "execution_count": null,
      "metadata": {
        "id": "dOtg6dDQ3B_a"
      },
      "outputs": [],
      "source": [
        "co_aws.delete_endpoint()\n",
        "co_aws.close()"
      ]
    }
  ],
  "metadata": {
    "kernelspec": {
      "display_name": "base",
      "language": "python",
      "name": "base"
    },
    "language_info": {
      "codemirror_mode": {
        "name": "ipython",
        "version": 3
      },
      "file_extension": ".py",
      "mimetype": "text/x-python",
      "name": "python",
      "nbconvert_exporter": "python",
      "pygments_lexer": "ipython3",
      "version": "3.11.4"
    },
    "colab": {
      "provenance": []
    }
  },
  "nbformat": 4,
  "nbformat_minor": 0
}